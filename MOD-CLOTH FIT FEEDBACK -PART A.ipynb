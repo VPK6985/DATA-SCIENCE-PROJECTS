{
 "cells": [
  {
   "cell_type": "markdown",
   "id": "5d3ce5f8",
   "metadata": {},
   "source": [
    "PART-A ( Concept Based)--25 points"
   ]
  },
  {
   "cell_type": "markdown",
   "id": "7205c026",
   "metadata": {},
   "source": [
    "The following data represents the price in dollars for branded shirts in a website\n",
    "NuCloth"
   ]
  },
  {
   "cell_type": "markdown",
   "id": "d5308ff2",
   "metadata": {},
   "source": [
    "23 30 20 27 44 26 35 20 29 29\n",
    "25 15 18 27 19 22 12 26 34 15\n",
    "27 35 26 43 35 14 24 12 23 31\n",
    "40 35 38 57 22 42 24 21 27 33"
   ]
  },
  {
   "cell_type": "markdown",
   "id": "ff44b080",
   "metadata": {},
   "source": [
    "Use this data for answering following questions where relevant"
   ]
  },
  {
   "cell_type": "code",
   "execution_count": 27,
   "id": "7cf9632c",
   "metadata": {},
   "outputs": [],
   "source": [
    "# type your code here\n",
    "import scipy.stats as stats\n",
    "import pandas as pd\n",
    "import numpy as np\n",
    "import seaborn as sns\n",
    "import warnings \n",
    "warnings.filterwarnings('ignore')\n",
    "import statistics as stat"
   ]
  },
  {
   "cell_type": "markdown",
   "id": "39aa4b96",
   "metadata": {},
   "source": [
    "Q1. Compute the mean, median and the mode of the data"
   ]
  },
  {
   "cell_type": "code",
   "execution_count": 124,
   "id": "24c88195",
   "metadata": {},
   "outputs": [
    {
     "data": {
      "text/plain": [
       "array([23, 30, 20, 27, 44, 26, 35, 20, 29, 29, 25, 15, 18, 27, 19, 22, 12,\n",
       "       26, 34, 15, 27, 35, 26, 43, 35, 14, 24, 12, 23, 31, 40, 35, 38, 57,\n",
       "       22, 42, 24, 21, 27, 33])"
      ]
     },
     "execution_count": 124,
     "metadata": {},
     "output_type": "execute_result"
    }
   ],
   "source": [
    "data=np.array([23,30,20,27,44,26,35,20,29,29,25,15,18,27,19,22,12,26,34,15,27,35,26,43,35,14,24,12,23,31,40,35,38,57,22,42,24,21,27,33])\n",
    "data"
   ]
  },
  {
   "cell_type": "code",
   "execution_count": 38,
   "id": "c902c729",
   "metadata": {},
   "outputs": [
    {
     "data": {
      "text/plain": [
       "27.625"
      ]
     },
     "execution_count": 38,
     "metadata": {},
     "output_type": "execute_result"
    }
   ],
   "source": [
    "mean=np.mean(data)\n",
    "mean"
   ]
  },
  {
   "cell_type": "code",
   "execution_count": 39,
   "id": "d0dc2b73",
   "metadata": {},
   "outputs": [
    {
     "data": {
      "text/plain": [
       "26.5"
      ]
     },
     "execution_count": 39,
     "metadata": {},
     "output_type": "execute_result"
    }
   ],
   "source": [
    "median=np.median(data)\n",
    "median"
   ]
  },
  {
   "cell_type": "code",
   "execution_count": 40,
   "id": "be5152bf",
   "metadata": {},
   "outputs": [
    {
     "data": {
      "text/plain": [
       "ModeResult(mode=array([27]), count=array([4]))"
      ]
     },
     "execution_count": 40,
     "metadata": {},
     "output_type": "execute_result"
    }
   ],
   "source": [
    "mode=stats.mode(data)\n",
    "mode"
   ]
  },
  {
   "cell_type": "code",
   "execution_count": null,
   "id": "f3111cbc",
   "metadata": {},
   "outputs": [],
   "source": []
  },
  {
   "cell_type": "markdown",
   "id": "17c86dda",
   "metadata": {},
   "source": [
    "Q2. Compute the range , variance and standard deviation of the data"
   ]
  },
  {
   "cell_type": "code",
   "execution_count": 41,
   "id": "d7730fab",
   "metadata": {},
   "outputs": [
    {
     "data": {
      "text/plain": [
       "45"
      ]
     },
     "execution_count": 41,
     "metadata": {},
     "output_type": "execute_result"
    }
   ],
   "source": [
    "range1=max(data)-min(data)\n",
    "range1"
   ]
  },
  {
   "cell_type": "code",
   "execution_count": 42,
   "id": "fe26753b",
   "metadata": {},
   "outputs": [
    {
     "data": {
      "text/plain": [
       "92"
      ]
     },
     "execution_count": 42,
     "metadata": {},
     "output_type": "execute_result"
    }
   ],
   "source": [
    "variance= stat.variance(data)\n",
    "variance"
   ]
  },
  {
   "cell_type": "code",
   "execution_count": 173,
   "id": "16aee8be",
   "metadata": {},
   "outputs": [
    {
     "data": {
      "text/plain": [
       "92.59935897435898"
      ]
     },
     "execution_count": 173,
     "metadata": {},
     "output_type": "execute_result"
    }
   ],
   "source": [
    "d=np.var(data,ddof=1)\n",
    "d"
   ]
  },
  {
   "cell_type": "code",
   "execution_count": 43,
   "id": "ebf9813d",
   "metadata": {},
   "outputs": [
    {
     "data": {
      "text/plain": [
       "9.622856071580774"
      ]
     },
     "execution_count": 43,
     "metadata": {},
     "output_type": "execute_result"
    }
   ],
   "source": [
    "std=np.std(data,ddof=1)\n",
    "std"
   ]
  },
  {
   "cell_type": "markdown",
   "id": "e73ef391",
   "metadata": {},
   "source": [
    " Q3.Find the mean deviation for the data . The mean deviation is defined as\n",
    "below."
   ]
  },
  {
   "cell_type": "code",
   "execution_count": 37,
   "id": "52cc3a02",
   "metadata": {},
   "outputs": [
    {
     "data": {
      "text/plain": [
       "9.591663046625438"
      ]
     },
     "execution_count": 37,
     "metadata": {},
     "output_type": "execute_result"
    }
   ],
   "source": [
    "mean_deviation=stat.stdev(data)\n",
    "mean_deviation"
   ]
  },
  {
   "cell_type": "code",
   "execution_count": 8,
   "id": "831a3b96",
   "metadata": {},
   "outputs": [
    {
     "name": "stdout",
     "output_type": "stream",
     "text": [
      "-8.125\n"
     ]
    }
   ],
   "source": [
    "data=np.array([23,30,20,27,44,26,35,20,29,29,25,15,18,27,19,22,12,26,34,15,27,35,26,43,35,14,24,12,23,31,40,35,38,57,22,42,24,21,27,33])\n",
    "x_bar=data.mean()\n",
    "n=len(data)\n",
    "k=0\n",
    "for i in range(len(data)):\n",
    "    l=(i-x_bar)/n\n",
    "    k+=l\n",
    "print(k)"
   ]
  },
  {
   "cell_type": "markdown",
   "id": "64f48a35",
   "metadata": {},
   "source": [
    "Q4. Calculate the Pearson coefficient of skewness and comment on the\n",
    "skewness of the data\n"
   ]
  },
  {
   "cell_type": "code",
   "execution_count": 45,
   "id": "2cd81b5a",
   "metadata": {},
   "outputs": [
    {
     "data": {
      "text/plain": [
       "0.3507274737245009"
      ]
     },
     "execution_count": 45,
     "metadata": {},
     "output_type": "execute_result"
    }
   ],
   "source": [
    "Pearson_coefficient = (3*(mean-median))/std\n",
    "Pearson_coefficient"
   ]
  },
  {
   "cell_type": "markdown",
   "id": "bb6a10dd",
   "metadata": {},
   "source": [
    "[A measure to determine the skewness of a distribution is called the Pearson\n",
    "coefficient of skewness. The formula is\n",
    "The value of the coefficient if skewness usually ranges from –3 to 3. When the\n",
    "distribution is symmetric, the coefficient is zero; when the distribution is\n",
    "positively skewed , the coefficient is positive, and when the distribution is\n",
    "negatively skewed the coefficient is negative.]"
   ]
  },
  {
   "cell_type": "markdown",
   "id": "d045fb74",
   "metadata": {},
   "source": [
    "Q5. Count the number of data values that fall within two standard deviations of\n",
    "the mean. Compare this with the answer from Chebyshev’s Theorem."
   ]
  },
  {
   "cell_type": "code",
   "execution_count": 47,
   "id": "a9bd07bf",
   "metadata": {},
   "outputs": [
    {
     "data": {
      "text/plain": [
       "39"
      ]
     },
     "execution_count": 47,
     "metadata": {},
     "output_type": "execute_result"
    }
   ],
   "source": [
    "data=np.array([23,30,20,27,44,26,35,20,29,29,25,15,18,27,19,22,12,26,34,15,27,35,26,43,35,14,24,12,23,31,40,35,38,57,22,42,24,21,27,33])\n",
    "data\n",
    "\n",
    "# getting the mean and std values from the calculations\n",
    "lower_limit= mean-2*std\n",
    "upper_limit= mean+2*std\n",
    "\n",
    "# finding the limits \n",
    "limits_data=np.array(data)[(data>lower_limit)&(data<upper_limit)]\n",
    "\n",
    "# count the number of data values\n",
    "count=len(limits_data)\n",
    "\n",
    "count"
   ]
  },
  {
   "cell_type": "code",
   "execution_count": 175,
   "id": "c969f20e",
   "metadata": {},
   "outputs": [
    {
     "name": "stdout",
     "output_type": "stream",
     "text": [
      "97.5\n",
      "75.0\n",
      "the 2std dev is greaterthan or equal to the percentage of the Chebyshes Theorem\n"
     ]
    }
   ],
   "source": [
    "# Chebyshev theorem\n",
    "\n",
    "# Calculating the count in percentages\n",
    "\n",
    "percentage = (count / len(data)) * 100\n",
    "\n",
    "print(percentage)\n",
    "\n",
    "# Chebyshe's theorem \n",
    "k= 2\n",
    "\n",
    "Chebyshe_percentage= (1-1/(k**2))*100\n",
    "print(Chebyshe_percentage)\n",
    "\n",
    "if percentage>=Chebyshe_percentage:\n",
    "    print('the 2std dev is greaterthan or equal to the percentage of the Chebyshes Theorem')\n",
    "else:\n",
    "    print('the 2std dev is lessthan the percenatge of the Chebyshes Theorem')"
   ]
  },
  {
   "cell_type": "markdown",
   "id": "a0768447",
   "metadata": {},
   "source": [
    "Q6. Find the three quartiles and the interquartile range (IQR)."
   ]
  },
  {
   "cell_type": "code",
   "execution_count": 59,
   "id": "44899900",
   "metadata": {},
   "outputs": [
    {
     "name": "stdout",
     "output_type": "stream",
     "text": [
      "21.75\n",
      "26.5\n",
      "34.25\n",
      "12.5\n"
     ]
    }
   ],
   "source": [
    "#  To find three quartiles \n",
    "\n",
    "Q1 = np.percentile(data,25)\n",
    "Q2 = np.percentile(data,50)\n",
    "Q3 = np.percentile(data,75)\n",
    "print(Q1)\n",
    "print(Q2)\n",
    "print(Q3)\n",
    "# Finding IQR\n",
    "\n",
    "IQR = Q3-Q1\n",
    "print(IQR)\n"
   ]
  },
  {
   "cell_type": "markdown",
   "id": "00578d33",
   "metadata": {},
   "source": [
    "Q7. Are there any outliers in the data set ?"
   ]
  },
  {
   "cell_type": "code",
   "execution_count": 176,
   "id": "d10b9a88",
   "metadata": {},
   "outputs": [
    {
     "data": {
      "text/plain": [
       "<AxesSubplot:>"
      ]
     },
     "execution_count": 176,
     "metadata": {},
     "output_type": "execute_result"
    },
    {
     "data": {
      "image/png": "[encoded data removed]",
      "text/plain": [
       "<Figure size 640x480 with 1 Axes>"
      ]
     },
     "metadata": {},
     "output_type": "display_data"
    }
   ],
   "source": [
    " sns.boxplot(data)  ## yes there is one outlier in given dataset"
   ]
  },
  {
   "cell_type": "markdown",
   "id": "2974fdba",
   "metadata": {},
   "source": [
    "Q8. Draw a boxplot of the dataset to confirm ."
   ]
  },
  {
   "cell_type": "code",
   "execution_count": 178,
   "id": "d0d779d5",
   "metadata": {},
   "outputs": [
    {
     "data": {
      "image/png": "[encoded data removed]",
      "text/plain": [
       "<Figure size 640x480 with 1 Axes>"
      ]
     },
     "metadata": {},
     "output_type": "display_data"
    }
   ],
   "source": [
    "sns.boxplot(data)\n",
    "import warnings\n",
    "warnings.filterwarnings('ignore')"
   ]
  },
  {
   "cell_type": "markdown",
   "id": "dd2ef458",
   "metadata": {},
   "source": [
    "Q9. Find the percentile rank of the datapoint 25."
   ]
  },
  {
   "cell_type": "code",
   "execution_count": 45,
   "id": "c43fcda9",
   "metadata": {},
   "outputs": [
    {
     "name": "stdout",
     "output_type": "stream",
     "text": [
      "0.4040404040404041\n",
      "0.4141414141414142\n"
     ]
    }
   ],
   "source": [
    "data=np.array([23,30,20,27,44,26,35,20,29,29,25,15,18,27,19,22,12,26,34,15,27,35,26,43,35,14,24,12,23,31,40,35,38,57,22,42,24,21,27,33])\n",
    "data\n",
    "for i in np.linspace(0,1,100):\n",
    "    if round(pd.Series(data).quantile(i))==25:\n",
    "        print(i)\n",
    "        "
   ]
  },
  {
   "cell_type": "code",
   "execution_count": 55,
   "id": "4c76ff17",
   "metadata": {},
   "outputs": [
    {
     "name": "stdout",
     "output_type": "stream",
     "text": [
      "0.2\n",
      "0.21\n"
     ]
    }
   ],
   "source": [
    "age=np.array([57,61,57,57,58,57,61,54,68,51,49,64,50,48,65,52,56,46,54,49,50,47,55,55,54,42,51,56,55,54,51,60,62,43,55,56,61,52,69,64,46,54])\n",
    "age\n",
    "\n",
    "for i in np.linspace(0,1,100):\n",
    "    i=round(i,2)\n",
    "#     print(pd.Series(age).quantile(i))\n",
    "    if pd.Series(age).quantile(i)==50.0:\n",
    "        print(i)\n",
    "    "
   ]
  },
  {
   "cell_type": "code",
   "execution_count": 57,
   "id": "d1f06b28",
   "metadata": {},
   "outputs": [
    {
     "name": "stdout",
     "output_type": "stream",
     "text": [
      "0.4\n",
      "0.41\n",
      "0.42\n"
     ]
    }
   ],
   "source": [
    "data=np.array([23,30,20,27,44,26,35,20,29,29,25,15,18,27,19,22,12,26,34,15,27,35,26,43,35,14,24,12,23,31,40,35,38,57,22,42,24,21,27,33])\n",
    "data\n",
    "for i in np.linspace(0,1,100):\n",
    "    i=round(i,2)\n",
    "#     print(pd.Series(data).quantile(i))\n",
    "    if round(pd.Series(data).quantile(i))==25:\n",
    "        print(i)"
   ]
  },
  {
   "cell_type": "markdown",
   "id": "0748583d",
   "metadata": {},
   "source": [
    "Q10. What is the probability that a shirt cost is above 25 dollars?"
   ]
  },
  {
   "cell_type": "code",
   "execution_count": 63,
   "id": "b7ce4a01",
   "metadata": {},
   "outputs": [
    {
     "name": "stdout",
     "output_type": "stream",
     "text": [
      "The proability of a shirt cost more than $25 is  0.6074919212644473\n"
     ]
    }
   ],
   "source": [
    "probability= stats.norm(mean,std)\n",
    "\n",
    "probability1=1-probability.cdf(25)\n",
    "print(\"The proability of a shirt cost more than $25 is \",probability1)"
   ]
  },
  {
   "cell_type": "markdown",
   "id": "7d7a8e46",
   "metadata": {},
   "source": [
    "Q11. Create a frequency distribution for the data and visualize it appropriately"
   ]
  },
  {
   "cell_type": "code",
   "execution_count": 171,
   "id": "93e2cf5b",
   "metadata": {},
   "outputs": [
    {
     "data": {
      "text/plain": [
       "<AxesSubplot:xlabel='values', ylabel='count'>"
      ]
     },
     "execution_count": 171,
     "metadata": {},
     "output_type": "execute_result"
    },
    {
     "data": {
      "image/png": "[encoded data removed]",
      "text/plain": [
       "<Figure size 640x480 with 1 Axes>"
      ]
     },
     "metadata": {},
     "output_type": "display_data"
    }
   ],
   "source": [
    "df=pd.DataFrame(data,columns=[\"values\"])\n",
    "\n",
    "#  Creating Frequency Distribution\n",
    "df['frequency']= df.groupby('values')['values'].count()\n",
    "df1=df['values'].value_counts().to_frame()\n",
    "df1['num']=df1.index\n",
    "sns.countplot(df['values'])"
   ]
  },
  {
   "cell_type": "code",
   "execution_count": 140,
   "id": "35125ede",
   "metadata": {},
   "outputs": [
    {
     "data": {
      "text/plain": [
       "<AxesSubplot:xlabel='values', ylabel='Count'>"
      ]
     },
     "execution_count": 140,
     "metadata": {},
     "output_type": "execute_result"
    },
    {
     "data": {
      "image/png": "[encoded data removed]",
      "text/plain": [
       "<Figure size 640x480 with 1 Axes>"
      ]
     },
     "metadata": {},
     "output_type": "display_data"
    }
   ],
   "source": [
    "sns.histplot(frequency_dist)"
   ]
  },
  {
   "cell_type": "markdown",
   "id": "ff16ecf5",
   "metadata": {},
   "source": [
    "Q12. Create a probability distribution of the data and visualize it appropriately. "
   ]
  },
  {
   "cell_type": "code",
   "execution_count": 139,
   "id": "70c85044",
   "metadata": {},
   "outputs": [
    {
     "data": {
      "text/plain": [
       "<AxesSubplot:ylabel='Density'>"
      ]
     },
     "execution_count": 139,
     "metadata": {},
     "output_type": "execute_result"
    },
    {
     "data": {
      "image/png": "[encoded data removed]",
      "text/plain": [
       "<Figure size 640x480 with 1 Axes>"
      ]
     },
     "metadata": {},
     "output_type": "display_data"
    }
   ],
   "source": [
    "# Assumming Data is normal\n",
    "sns.distplot(data)"
   ]
  },
  {
   "cell_type": "code",
   "execution_count": 58,
   "id": "d1662358",
   "metadata": {},
   "outputs": [
    {
     "data": {
      "text/plain": [
       "<AxesSubplot:ylabel='Density'>"
      ]
     },
     "execution_count": 58,
     "metadata": {},
     "output_type": "execute_result"
    },
    {
     "data": {
      "image/png": "[encoded data removed]",
      "text/plain": [
       "<Figure size 640x480 with 1 Axes>"
      ]
     },
     "metadata": {},
     "output_type": "display_data"
    }
   ],
   "source": [
    "sns.distplot(age)"
   ]
  },
  {
   "cell_type": "code",
   "execution_count": null,
   "id": "b1ba7821",
   "metadata": {},
   "outputs": [],
   "source": []
  },
  {
   "cell_type": "markdown",
   "id": "a1ae474c",
   "metadata": {},
   "source": [
    "Q13. What is the shape of the distribution of this dataset? Create an \n",
    "appropriate graph to determine that. Take 100 random samples with \n",
    "replacement from this dataset of size 5 each. Create a sampling distribution of \n",
    "the mean shirt prices. Compare with other sampling distributions of sample \n",
    "size 10, 15, 20, 25, 30. State your observations. Does it corroborate the \n",
    "Central Limit Theorem?"
   ]
  },
  {
   "cell_type": "code",
   "execution_count": 180,
   "id": "50de8cfc",
   "metadata": {},
   "outputs": [
    {
     "data": {
      "text/plain": [
       "<AxesSubplot:ylabel='Density'>"
      ]
     },
     "execution_count": 180,
     "metadata": {},
     "output_type": "execute_result"
    },
    {
     "data": {
      "image/png": "[encoded data removed]",
      "text/plain": [
       "<Figure size 640x480 with 1 Axes>"
      ]
     },
     "metadata": {},
     "output_type": "display_data"
    }
   ],
   "source": [
    "df.shape\n",
    "a=np.random.choice(data,5)\n",
    "a\n",
    "sns.distplot(a)\n",
    "b=np.random.choice(data,10)\n",
    "b\n",
    "sns.distplot(b)\n",
    "c=np.random.choice(data,15)\n",
    "c\n",
    "sns.distplot(c)\n",
    "d=np.random.choice(data,20)\n",
    "d\n",
    "sns.distplot(d)\n",
    "e=np.random.choice(data,25)\n",
    "e\n",
    "sns.distplot(e)\n",
    "f=np.random.choice(data,30)\n",
    "f\n",
    "sns.distplot(f)\n"
   ]
  },
  {
   "cell_type": "code",
   "execution_count": null,
   "id": "a1757f74",
   "metadata": {},
   "outputs": [],
   "source": []
  },
  {
   "cell_type": "markdown",
   "id": "c98e27da",
   "metadata": {},
   "source": [
    "Q14. Treat this dataset as a binomial distribution where p is the probability\n",
    "that a shirt costs above 25 dollars. What is the probability that out of a random\n",
    "sample of 10 shirts 7 are costing more than 25 dollars?"
   ]
  },
  {
   "cell_type": "code",
   "execution_count": 194,
   "id": "8260760f",
   "metadata": {},
   "outputs": [
    {
     "data": {
      "text/plain": [
       "0.19143570809682064"
      ]
     },
     "execution_count": 194,
     "metadata": {},
     "output_type": "execute_result"
    }
   ],
   "source": [
    "p0=data[data>25]\n",
    "p=len(p0)/len(data)\n",
    "n=10\n",
    "r=7\n",
    "\n",
    "stats.binom.pmf(r,n,p)\n"
   ]
  },
  {
   "cell_type": "markdown",
   "id": "47eaeb50",
   "metadata": {},
   "source": [
    "Q15. NuCloth Claims that 60% of all shirts in their website cost less than 25\n",
    "dollars . Using the Normal approximation of a Binomial distribution, find the\n",
    "probability that in a random sample of 10 shirts 7 of them will cost less than 25\n",
    "dollars.\n"
   ]
  },
  {
   "cell_type": "code",
   "execution_count": 193,
   "id": "ad171d6e",
   "metadata": {},
   "outputs": [
    {
     "data": {
      "text/plain": [
       "0.7406974917856373"
      ]
     },
     "execution_count": 193,
     "metadata": {},
     "output_type": "execute_result"
    }
   ],
   "source": [
    "import numpy as np\n",
    "p=0.6#sucess probablity\n",
    "q=1-0.6#failure probabality\n",
    "#first to get the norm approx as data is in bionomial dist we have two cond 1)sample size >=10 2)p-sucess probablity>0.06\n",
    "#here \n",
    "p=0.6\n",
    "q=0.4\n",
    "r=7\n",
    "mu=n*p\n",
    "sigma=(n*p*q)**0.5\n",
    "stat.norm.cdf((r-mu)/sigma)\n",
    "stat.norm.cdf((7-(10*0.6))/np.sqrt(10*0.6*0.4))"
   ]
  },
  {
   "cell_type": "markdown",
   "id": "09a3db88",
   "metadata": {},
   "source": [
    "[ Note that the normal distribution can be used to approximate a binomial\n",
    "distribution if np>=5 and nq>=5 with the following correction for continuity\n",
    "P(X=z) = P(z-0.5 < X < z+0.5 ) ]\n"
   ]
  },
  {
   "cell_type": "markdown",
   "id": "30c9407c",
   "metadata": {},
   "source": [
    "Q16. Compute a 95% Confidence Interval for the true price of a shirt in the\n",
    "NuCloth website using appropriate distribution.( State reasons as to why did\n",
    "you use a z or t distribution)"
   ]
  },
  {
   "cell_type": "code",
   "execution_count": 192,
   "id": "1af13e3d",
   "metadata": {},
   "outputs": [
    {
     "name": "stdout",
     "output_type": "stream",
     "text": [
      "24.68041298008275 30.56958701991725\n"
     ]
    }
   ],
   "source": [
    "import scipy.stats as stat\n",
    "len(data)\n",
    "#As first and foremost as data len is <30 we go with Z-test\n",
    "#cl=95\n",
    "sl=0.05\n",
    "m=np.mean(data)\n",
    "s=data.std()\n",
    "n=(len(data))**0.5\n",
    "ll,ul=stat.norm.interval(loc=m,scale=s/n,alpha=0.95)\n",
    "print(ll,ul)\n"
   ]
  },
  {
   "cell_type": "markdown",
   "id": "010d319a",
   "metadata": {},
   "source": [
    "Q17. A data scientist wants to estimate with 95% confidence the true\n",
    "proportion of shirts having price greater than 25 dollars in the NuCloth\n",
    "website. A recent study showed that 60% of all shirts have a price greater\n",
    "than 25 dollars. The data scientist wants to be accurate within 2% of the true\n",
    "proportion. Find the minimum sample size necessary.\n"
   ]
  },
  {
   "cell_type": "code",
   "execution_count": 190,
   "id": "6326008d",
   "metadata": {},
   "outputs": [
    {
     "data": {
      "text/plain": [
       "1623.326072457249"
      ]
     },
     "execution_count": 190,
     "metadata": {},
     "output_type": "execute_result"
    }
   ],
   "source": [
    "z_val=stats.norm.isf(0.05)#given cl=95\n",
    "e=0.02\n",
    "#p=estimated_proportion\n",
    "p=0.6\n",
    "#n =(z^2*p*(1-p))/ e^2\n",
    "n=(((z_val)**2)*p*(1-0.6))/e**2\n",
    "n     "
   ]
  },
  {
   "cell_type": "markdown",
   "id": "048df89e",
   "metadata": {},
   "source": [
    "Q18. The same data scientist wants to estimate the true proportion of shirts\n",
    "having price greater than 25 dollars. She wants to be 90% confident and\n",
    "accurate within 5% of true proportion. Find the minimum sample size\n",
    "necessary."
   ]
  },
  {
   "cell_type": "code",
   "execution_count": 187,
   "id": "321643b8",
   "metadata": {},
   "outputs": [
    {
     "data": {
      "text/plain": [
       "1.2815515655446004"
      ]
     },
     "execution_count": 187,
     "metadata": {},
     "output_type": "execute_result"
    }
   ],
   "source": [
    "# DONE BY CHANDAN\n",
    "me=0.05\n",
    "z=stats.norm.isf(0.1)\n",
    "z"
   ]
  },
  {
   "cell_type": "code",
   "execution_count": 191,
   "id": "d72fd54d",
   "metadata": {},
   "outputs": [
    {
     "data": {
      "text/plain": [
       "157.66794385438232"
      ]
     },
     "execution_count": 191,
     "metadata": {},
     "output_type": "execute_result"
    }
   ],
   "source": [
    "# DONE BY PRAKASH BRO\n",
    "\n",
    "z_val=stats.norm.isf(0.1)#given cl=90\n",
    "e=0.05\n",
    "#p=estimated_proportion\n",
    "p=0.6\n",
    "#n =(z^2*p*(1-p))/ e^2\n",
    "n=(((z_val)**2)*p*(1-0.6))/e**2\n",
    "n     "
   ]
  },
  {
   "cell_type": "markdown",
   "id": "20c7012f",
   "metadata": {},
   "source": [
    "Q19. NuCloth claims that currently 80% of all shirts have prices greater than\n",
    "25 dollars . Test this claim with an alpha =0.05 if out of a random sample of 30\n",
    "shirts only 23 are having prices above 25 dollars."
   ]
  },
  {
   "cell_type": "code",
   "execution_count": 186,
   "id": "ec6c3321",
   "metadata": {},
   "outputs": [
    {
     "name": "stdout",
     "output_type": "stream",
     "text": [
      "-0.8333333333333331 0.20232838096364303 0.05\n",
      "failed to reject null\n",
      "As we can see that pv is less than significance level we reject null\n",
      "we can conclude that price of Nucloth is less than 25\n"
     ]
    }
   ],
   "source": [
    "# h0: u>=25\n",
    "# h1: u<25\n",
    "#one sample left tail\n",
    "p=23/30\n",
    "p0=0.8\n",
    "sl=0.05\n",
    "z=(p-p0)/(np.sqrt((p0*(1-p0)/n)))\n",
    "pv=stats.norm.cdf(z)\n",
    "print(z,pv,0.05)\n",
    "if pv<0.05:\n",
    "    print('reject null')\n",
    "else:\n",
    "    print('failed to reject null')\n",
    "print('As we can see that pv is less than significance level we reject null\\nwe can conclude that price of Nucloth is less than 25')"
   ]
  },
  {
   "cell_type": "markdown",
   "id": "028d30f7",
   "metadata": {},
   "source": [
    "Q20. A data scientist is researching the hypothesis that the average price of a shirt\n",
    "in NuCloth is higher than the supermarket. So he collects data from NuCloth and the\n",
    "supermarket that the average shirt price of shirts in NuCloth is 36 dollars vs 34\n",
    "dollars in the supermarket. The standard deviations are 7.6 and 5.8\n",
    "respectively.Suppose the data scientist got these values after randomly selecting\n",
    "100 shirts from each place."
   ]
  },
  {
   "cell_type": "markdown",
   "id": "efce4c8a",
   "metadata": {},
   "source": [
    "a. What hypothesis would he use to compare the shirt prices of NuCloth vs\n",
    "Supermarket\n"
   ]
  },
  {
   "cell_type": "code",
   "execution_count": 181,
   "id": "b8d6e919",
   "metadata": {},
   "outputs": [],
   "source": [
    "# h0: u1<=u2\n",
    "# h1: u1>u2"
   ]
  },
  {
   "cell_type": "markdown",
   "id": "220a80c9",
   "metadata": {},
   "source": [
    "b. What are critical values to be used? "
   ]
  },
  {
   "cell_type": "code",
   "execution_count": 182,
   "id": "a4ef2894",
   "metadata": {},
   "outputs": [
    {
     "name": "stdout",
     "output_type": "stream",
     "text": [
      "As the hypothesis test is right tailed we consider the critical value as  1.6448536269514729\n"
     ]
    }
   ],
   "source": [
    "# considering 95 confidence level\n",
    "cv=stats.norm.isf(0.05)\n",
    "cv\n",
    "print('As the hypothesis test is right tailed we consider the critical value as ',cv)"
   ]
  },
  {
   "cell_type": "markdown",
   "id": "37319342",
   "metadata": {},
   "source": [
    " c. What statistical test will be used to compare these prices?"
   ]
  },
  {
   "cell_type": "code",
   "execution_count": 183,
   "id": "1def3da6",
   "metadata": {},
   "outputs": [],
   "source": [
    "# two sample right tailed z test"
   ]
  },
  {
   "cell_type": "markdown",
   "id": "728a4dc9",
   "metadata": {},
   "source": [
    "d. Complete the test and obtain the P-value. "
   ]
  },
  {
   "cell_type": "code",
   "execution_count": 184,
   "id": "d4416aeb",
   "metadata": {},
   "outputs": [
    {
     "name": "stdout",
     "output_type": "stream",
     "text": [
      "2.09197696327652 0.018220288245112185\n"
     ]
    }
   ],
   "source": [
    "u1=36\n",
    "u2=34\n",
    "s1=7.6\n",
    "s2=5.8\n",
    "n=n1=n2=100\n",
    "num=(u1-u2)\n",
    "den=np.sqrt((np.power(s1,2)/n)+((np.power(s2,2)/n)))\n",
    "z=num/den\n",
    "pv=stats.norm.sf(z)\n",
    "print(z,pv)"
   ]
  },
  {
   "cell_type": "markdown",
   "id": "fd0ca484",
   "metadata": {},
   "source": [
    "e. Summarize his conclusion based on the P-value."
   ]
  },
  {
   "cell_type": "code",
   "execution_count": 185,
   "id": "da56f187",
   "metadata": {},
   "outputs": [
    {
     "name": "stdout",
     "output_type": "stream",
     "text": [
      "reject null\n",
      "As we can see that pv is less than significance level we reject null\n",
      "we can conclude that avg price of Nucloth is greater than supermart\n"
     ]
    }
   ],
   "source": [
    "if pv<0.05:\n",
    "    print('reject null')\n",
    "else:\n",
    "    print('failed to reject null')\n",
    "print('As we can see that pv is less than significance level we reject null\\nwe can conclude that avg price of Nucloth is greater than supermart')"
   ]
  }
 ],
 "metadata": {
  "kernelspec": {
   "display_name": "Python 3 (ipykernel)",
   "language": "python",
   "name": "python3"
  },
  "language_info": {
   "codemirror_mode": {
    "name": "ipython",
    "version": 3
   },
   "file_extension": ".py",
   "mimetype": "text/x-python",
   "name": "python",
   "nbconvert_exporter": "python",
   "pygments_lexer": "ipython3",
   "version": "3.9.13"
  }
 },
 "nbformat": 4,
 "nbformat_minor": 5
}
